{
 "cells": [
  {
   "cell_type": "code",
   "execution_count": 1,
   "metadata": {
    "ExecuteTime": {
     "end_time": "2018-05-10T01:08:08.386753Z",
     "start_time": "2018-05-10T01:08:07.687900Z"
    }
   },
   "outputs": [],
   "source": [
    "import pandas as pd\n",
    "import time\n",
    "import datetime\n",
    "import scipy.stats as st\n",
    "import numpy as np\n",
    "import os\n",
    "import ipyparallel as ipp"
   ]
  },
  {
   "cell_type": "code",
   "execution_count": 2,
   "metadata": {
    "ExecuteTime": {
     "end_time": "2018-05-10T01:08:18.298731Z",
     "start_time": "2018-05-10T01:08:08.386753Z"
    }
   },
   "outputs": [],
   "source": [
    "# prepare data\n",
    "#msgat = pd.read_pickle(r'../records/sample/msgat_dataframe')\n",
    "total_msg = pd.read_pickle(r'../records/sample/sample_msg_tfidf_pickle')\n",
    "# drop useless columns\n",
    "total_msg.drop(columns=['type', 'status', 'isSend', 'splitwords','msg'], inplace=True)\n",
    "# test a subsample of total_msg\n",
    "total_msg.sort_values('createTime',inplace= True)\n",
    "total_msg['intTime'] = total_msg.createTime.diff().dt.total_seconds().fillna(0).cumsum()\n",
    "total_msg.sort_values(['talker','createTime'],inplace= True,ascending=True)\n",
    "total_msg.index = pd.RangeIndex(len(total_msg.index))\n",
    "total_msg['talker'] = total_msg['talker'].astype('category')\n",
    "total_msg['sender'] = total_msg['sender'].astype('category')\n",
    "total_msg['displayname'] = total_msg['displayname'].astype('category')\n",
    "total_msg['nickname'] = total_msg['nickname'].astype('category')\n",
    "total_msg['createDate'] = total_msg['createTime'].dt.date\n",
    "total_msg['createDate'] = total_msg['createDate'].astype('category')\n",
    "total_msg = total_msg.iloc[:1000]"
   ]
  },
  {
   "cell_type": "code",
   "execution_count": 3,
   "metadata": {
    "ExecuteTime": {
     "end_time": "2018-05-10T01:08:18.310645Z",
     "start_time": "2018-05-10T01:08:18.298731Z"
    }
   },
   "outputs": [],
   "source": [
    "twindow = 3  # 这个应该用在全局的totalmsg表上，每次处理相应窗口的数据\n",
    "divideN = 1500  # 对timediff进行缩放\n",
    "\n",
    "w_temp = 0.1\n",
    "temporal_scale = 4.686"
   ]
  },
  {
   "cell_type": "code",
   "execution_count": 4,
   "metadata": {
    "ExecuteTime": {
     "end_time": "2018-05-10T01:08:18.338566Z",
     "start_time": "2018-05-10T01:08:18.316627Z"
    }
   },
   "outputs": [],
   "source": [
    "def sumDicts(dict1,dict2):\n",
    "    \"\"\"Sum dict1 with dict2, only 2.\n",
    "    \"\"\"\n",
    "    return {k: dict1.get(k, 0) + dict2.get(k, 0) for k in dict1.keys() | dict2.keys()}\n",
    "\n",
    "def sumTfidf(tfidfList):\n",
    "    \"\"\"Sum the new computed tfidf\n",
    "    Args:\n",
    "        tfidfList: A list of tfidf\n",
    "    Return:\n",
    "        the return list: expanded tfidf dict\n",
    "    \"\"\"\n",
    "    rList = {}\n",
    "    for tfidf in tfidfList:\n",
    "        rList = sumDicts(tfidf, rList)\n",
    "    return rList\n",
    "\n",
    "def probMultiTfidf(probArray, tfidfList):\n",
    "    \"\"\"Multiply the context tfidf with probability in the same thread.\n",
    "    Args:\n",
    "        probArray(Array): probability in the same thread of msg context\n",
    "        tfidfList(List): the tfidfList of msg context\n",
    "    Returns:\n",
    "        The return tuple\n",
    "    \"\"\"\n",
    "    return ([{k: v for k, v in zip(tfidfList[i].keys(), probArray[i] * np.array(list(tfidfList[i].values())))} for i in\n",
    "             range(len(probArray))])\n",
    "def tempProbC(row,t_scale, contextdf,w_temp):\n",
    "    \"\"\"Expand the context-free info of msgi with temporal context.\n",
    "\n",
    "    Args:\n",
    "        row(Series): One raw of msgdf.itertuples() to be expanded\n",
    "        t_scale(float): The scale of normal distribution trained before\n",
    "        contextdf(dataframe): The dataframe of msgs between [DATE - 1DAY,DATE + 1DAY]\n",
    "\n",
    "    Returns:\n",
    "        The return vector. The expand vector repretation of msgi with info from its temporal context.\n",
    "\n",
    "    \"\"\"\n",
    "    msgrowid = row[0]\n",
    "    talker = row[3]\n",
    "    msgdate = row[8]#intTime\n",
    "\n",
    "    tempContext = contextdf[contextdf.index != msgrowid]#这里使用index\n",
    "    timediff = tempContext['intTime'].values - msgdate\n",
    "    timediff = timediff / divideN\n",
    "    probArray = st.norm.pdf(timediff, scale=t_scale)\n",
    "    tfidfList = tempContext['tfidf'].tolist()\n",
    "    newTfidf = probMultiTfidf(probArray, tfidfList)\n",
    "    result = {k:(v * w_temp) for k, v in sumTfidf(newTfidf).items()}\n",
    "    filename = talker[:-9]\n",
    "    #print(filename)\n",
    "    #print(result)\n",
    "    with open(r'../records/sample/tempExpand/temp_expand{}'.format(filename),'a') as f:\n",
    "        f.write(\"{0},{1}\\n\".format(msgrowid,result))\n",
    "def mExpandTempP(lt):\n",
    "    msgdate,talker = lt\n",
    "    #maxdate = datetime.datetime(msgdate.year, msgdate.month, msgdate.day) + datetime.timedelta(hours=24 + twindow)\n",
    "    #mindate = datetime.datetime(msgdate.year, msgdate.month, msgdate.day) - datetime.timedelta(hours=twindow)\n",
    "    #maxdate = (maxdate - minGlobalDate).total_seconds()\n",
    "    #mindate = (mindate - minGlobalDate).total_seconds()\n",
    "    #还需要限制在同一个聊天室中\n",
    "    #contextdf = total_msg[(total_msg.intTime > mindate) & (total_msg.intTime < maxdate) & (total_msg.talker == talker)]\n",
    "    targetdf = total_msg[(total_msg.createDate == msgdate) & (total_msg.talker == talker)]\n",
    "    contextdf = targetdf\n",
    "    #[tempProb(row,temporal_scale,contextdf,w_temp) for row in targetdf.itertuples(index=False)]        \n",
    "    #targetdf.apply(lambda row: tempProbC(row,temporal_scale,contextdf,w_temp),axis=1)\n",
    "    #follow speeds up\n",
    "    for row in targetdf.itertuples():\n",
    "        tempProbC(row,temporal_scale,contextdf,w_temp)"
   ]
  },
  {
   "cell_type": "markdown",
   "metadata": {},
   "source": [
    "# 并行代码"
   ]
  },
  {
   "cell_type": "code",
   "execution_count": 5,
   "metadata": {
    "ExecuteTime": {
     "end_time": "2018-05-10T01:08:18.475202Z",
     "start_time": "2018-05-10T01:08:18.346546Z"
    }
   },
   "outputs": [
    {
     "data": {
      "text/plain": [
       "[0, 1]"
      ]
     },
     "execution_count": 5,
     "metadata": {},
     "output_type": "execute_result"
    }
   ],
   "source": [
    "c = ipp.Client()\n",
    "c.ids"
   ]
  },
  {
   "cell_type": "code",
   "execution_count": 6,
   "metadata": {
    "ExecuteTime": {
     "end_time": "2018-05-10T01:08:18.484178Z",
     "start_time": "2018-05-10T01:08:18.478195Z"
    }
   },
   "outputs": [],
   "source": [
    "dview = c[:]"
   ]
  },
  {
   "cell_type": "code",
   "execution_count": 7,
   "metadata": {
    "ExecuteTime": {
     "end_time": "2018-05-10T01:08:18.498139Z",
     "start_time": "2018-05-10T01:08:18.487170Z"
    }
   },
   "outputs": [],
   "source": [
    "lview = c.load_balanced_view()\n",
    "lview.block = True"
   ]
  },
  {
   "cell_type": "markdown",
   "metadata": {},
   "source": [
    "push变量"
   ]
  },
  {
   "cell_type": "code",
   "execution_count": 8,
   "metadata": {
    "ExecuteTime": {
     "end_time": "2018-05-10T01:08:18.594881Z",
     "start_time": "2018-05-10T01:08:18.502129Z"
    }
   },
   "outputs": [
    {
     "data": {
      "text/plain": [
       "<AsyncResult: _push>"
      ]
     },
     "execution_count": 8,
     "metadata": {},
     "output_type": "execute_result"
    }
   ],
   "source": [
    "dview.push(dict(total_msg = total_msg,twindow = twindow,divideN = divideN,w_temp = w_temp,temporal_scale = temporal_scale))"
   ]
  },
  {
   "cell_type": "markdown",
   "metadata": {},
   "source": [
    "Engines放入需要的包"
   ]
  },
  {
   "cell_type": "code",
   "execution_count": 9,
   "metadata": {
    "ExecuteTime": {
     "end_time": "2018-05-10T01:08:19.691310Z",
     "start_time": "2018-05-10T01:08:18.600865Z"
    }
   },
   "outputs": [],
   "source": [
    "%%px \n",
    "import pandas as pd\n",
    "import time\n",
    "import datetime\n",
    "import scipy.stats as st\n",
    "import numpy as np\n",
    "import os\n",
    "import sys"
   ]
  },
  {
   "cell_type": "code",
   "execution_count": 10,
   "metadata": {
    "ExecuteTime": {
     "end_time": "2018-05-10T01:08:19.729078Z",
     "start_time": "2018-05-10T01:08:19.691310Z"
    }
   },
   "outputs": [],
   "source": [
    "%%px\n",
    "def sumDicts(dict1,dict2):\n",
    "    \"\"\"Sum dict1 with dict2, only 2.\n",
    "    \"\"\"\n",
    "    return {k: dict1.get(k, 0) + dict2.get(k, 0) for k in dict1.keys() | dict2.keys()}\n",
    "\n",
    "def sumTfidf(tfidfList):\n",
    "    \"\"\"Sum the new computed tfidf\n",
    "    Args:\n",
    "        tfidfList: A list of tfidf\n",
    "    Return:\n",
    "        the return list: expanded tfidf dict\n",
    "    \"\"\"\n",
    "    rList = {}\n",
    "    for tfidf in tfidfList:\n",
    "        rList = sumDicts(tfidf, rList)\n",
    "    return rList\n",
    "\n",
    "def probMultiTfidf(probArray, tfidfList):\n",
    "    \"\"\"Multiply the context tfidf with probability in the same thread.\n",
    "    Args:\n",
    "        probArray(Array): probability in the same thread of msg context\n",
    "        tfidfList(List): the tfidfList of msg context\n",
    "    Returns:\n",
    "        The return tuple\n",
    "    \"\"\"\n",
    "    return ([{k: v for k, v in zip(tfidfList[i].keys(), probArray[i] * np.array(list(tfidfList[i].values())))} for i in\n",
    "             range(len(probArray))])\n",
    "def tempProbC(row,t_scale, contextdf,w_temp):\n",
    "    \"\"\"Expand the context-free info of msgi with temporal context.\n",
    "\n",
    "    Args:\n",
    "        row(Series): One raw of msgdf.itertuples() to be expanded\n",
    "        t_scale(float): The scale of normal distribution trained before\n",
    "        contextdf(dataframe): The dataframe of msgs between [DATE - 1DAY,DATE + 1DAY]\n",
    "\n",
    "    Returns:\n",
    "        The return vector. The expand vector repretation of msgi with info from its temporal context.\n",
    "\n",
    "    \"\"\"\n",
    "    msgrowid = row[0]\n",
    "    talker = row[3]\n",
    "    msgdate = row[8]#intTime\n",
    "\n",
    "    tempContext = contextdf[contextdf.index != msgrowid]#这里使用index\n",
    "    timediff = tempContext['intTime'].values - msgdate\n",
    "    timediff = timediff / divideN\n",
    "    probArray = st.norm.pdf(timediff, scale=t_scale)\n",
    "    tfidfList = tempContext['tfidf'].tolist()\n",
    "    newTfidf = probMultiTfidf(probArray, tfidfList)\n",
    "    result = {k:(v * w_temp) for k, v in sumTfidf(newTfidf).items()}\n",
    "    filename = talker[:-9]\n",
    "    #print(filename)\n",
    "    #print(result)\n",
    "    #with open(r'../records/sample/test/temp_expand{}'.format(filename),'a') as f:\n",
    "    f = open(r'../records/sample/test/temp_expand{}'.format(filename),'a')#z这个地方需要显示指明要写入的文件的位置\n",
    "    f.write(\"{0},{1}\\n\".format(msgrowid,result))"
   ]
  },
  {
   "cell_type": "code",
   "execution_count": 11,
   "metadata": {
    "ExecuteTime": {
     "end_time": "2018-05-10T01:08:19.771962Z",
     "start_time": "2018-05-10T01:08:19.733067Z"
    }
   },
   "outputs": [
    {
     "name": "stdout",
     "output_type": "stream",
     "text": [
      "got unknown result: f091b91c-aab49562140cc382bf30c708\n"
     ]
    },
    {
     "data": {
      "text/plain": [
       "[<function tempProbC(row, t_scale, contextdf, w_temp)>,\n",
       " <function tempProbC(row, t_scale, contextdf, w_temp)>]"
      ]
     },
     "execution_count": 11,
     "metadata": {},
     "output_type": "execute_result"
    }
   ],
   "source": [
    "dview.pull('tempProbC').get()#已经放入了函数"
   ]
  },
  {
   "cell_type": "markdown",
   "metadata": {},
   "source": [
    "# 执行"
   ]
  },
  {
   "cell_type": "markdown",
   "metadata": {},
   "source": [
    "现在就发现其中的问题了，创建的engines的位置在'C:\\\\Users\\\\Eric'而不是当前的文件所在的位置"
   ]
  },
  {
   "cell_type": "code",
   "execution_count": 18,
   "metadata": {
    "ExecuteTime": {
     "end_time": "2018-05-10T01:13:23.434574Z",
     "start_time": "2018-05-10T01:13:23.414628Z"
    }
   },
   "outputs": [
    {
     "data": {
      "text/plain": [
       "['C:\\\\Users\\\\Eric', 'C:\\\\Users\\\\Eric']"
      ]
     },
     "execution_count": 18,
     "metadata": {},
     "output_type": "execute_result"
    }
   ],
   "source": [
    "dview.apply(lambda :os.getcwd()).get()"
   ]
  },
  {
   "cell_type": "code",
   "execution_count": 17,
   "metadata": {
    "ExecuteTime": {
     "end_time": "2018-05-10T01:13:14.676607Z",
     "start_time": "2018-05-10T01:13:14.657659Z"
    }
   },
   "outputs": [
    {
     "data": {
      "text/plain": [
       "['i test', 'i test']"
      ]
     },
     "execution_count": 17,
     "metadata": {},
     "output_type": "execute_result"
    }
   ],
   "source": [
    "dview.apply(lambda :'i test').get()"
   ]
  },
  {
   "cell_type": "code",
   "execution_count": null,
   "metadata": {
    "ExecuteTime": {
     "start_time": "2018-05-10T00:55:31.775Z"
    }
   },
   "outputs": [],
   "source": [
    "parallel_result = lview.map(mExpandTempP, [(msgdate,talker) for msgdate in total_msg['createDate'].unique() for talker in total_msg['talker'].unique()])"
   ]
  }
 ],
 "metadata": {
  "kernelspec": {
   "display_name": "Python 3",
   "language": "python",
   "name": "python3"
  },
  "language_info": {
   "codemirror_mode": {
    "name": "ipython",
    "version": 3
   },
   "file_extension": ".py",
   "mimetype": "text/x-python",
   "name": "python",
   "nbconvert_exporter": "python",
   "pygments_lexer": "ipython3",
   "version": "3.6.5"
  },
  "toc": {
   "base_numbering": 1,
   "nav_menu": {},
   "number_sections": true,
   "sideBar": true,
   "skip_h1_title": false,
   "title_cell": "Table of Contents",
   "title_sidebar": "Contents",
   "toc_cell": false,
   "toc_position": {},
   "toc_section_display": true,
   "toc_window_display": false
  },
  "varInspector": {
   "cols": {
    "lenName": 16,
    "lenType": 16,
    "lenVar": 40
   },
   "kernels_config": {
    "python": {
     "delete_cmd_postfix": "",
     "delete_cmd_prefix": "del ",
     "library": "var_list.py",
     "varRefreshCmd": "print(var_dic_list())"
    },
    "r": {
     "delete_cmd_postfix": ") ",
     "delete_cmd_prefix": "rm(",
     "library": "var_list.r",
     "varRefreshCmd": "cat(var_dic_list()) "
    }
   },
   "position": {
    "height": "362px",
    "left": "1130px",
    "right": "20px",
    "top": "120px",
    "width": "350px"
   },
   "types_to_exclude": [
    "module",
    "function",
    "builtin_function_or_method",
    "instance",
    "_Feature"
   ],
   "window_display": false
  }
 },
 "nbformat": 4,
 "nbformat_minor": 1
}
